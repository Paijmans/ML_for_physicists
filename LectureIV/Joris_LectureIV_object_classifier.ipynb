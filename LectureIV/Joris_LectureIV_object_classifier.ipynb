{
 "cells": [
  {
   "cell_type": "markdown",
   "metadata": {},
   "source": [
    "# Object classification from synthetic data"
   ]
  },
  {
   "cell_type": "code",
   "execution_count": 239,
   "metadata": {},
   "outputs": [],
   "source": [
    "# Import the numpy library for matrix manipulations etc.\n",
    "import numpy as np\n",
    "import pandas as pd\n",
    "import os\n",
    "import sys\n",
    "import cv2 as cv2\n",
    "\n",
    "# Set up the graphics by importing the matplotlib plotting library\n",
    "import matplotlib.pyplot as plt\n",
    "\n",
    "import keras as kr\n",
    "from keras.models import Sequential\n",
    "from keras.layers import Dense\n",
    "\n",
    "shape_idx_to_name = {0:'disk', 1:'square', 2:'circle', 3:'triangle'}"
   ]
  },
  {
   "cell_type": "code",
   "execution_count": 258,
   "metadata": {},
   "outputs": [],
   "source": [
    "def display_image(image_array, clim=None):\n",
    "    \"\"\" Show a single image with colorbar. Image given in 1D or 2D representation. \"\"\"\n",
    "    \n",
    "    if len(image_array.shape) == 1:\n",
    "        image_dim = int(np.sqrt(len(image_array)))\n",
    "        img = np.reshape(image_array, [image_dim, image_dim])\n",
    "    else:\n",
    "        img = image_array\n",
    "        \n",
    "    plt.imshow(img, interpolation='nearest', cmap='binary')\n",
    "    if clim is None:\n",
    "        plt.clim([img.min(),img.max()])\n",
    "    else:\n",
    "        plt.clim(clim)\n",
    "        \n",
    "    plt.colorbar()\n",
    "    plt.show()\n",
    "\n",
    "    \n",
    "def create_training_data(data_sets, labels = [], p_train = 0.8):\n",
    "    \"\"\" Create training and testing datasets from a collection of data sets.\n",
    "    \n",
    "        Function shuffles the given data_sets.\n",
    "    \n",
    "        Parameters:\n",
    "        -----------\n",
    "        data_sets : list of numpy.ndarray\n",
    "            List of data sets, where every set is assumed to have the same label.\n",
    "        labels : numpy.array\n",
    "            Labels for each data set. If not given, assume labels = range(len(data_sets))\n",
    "        p_train : 0.8, float\n",
    "            Fraction of data used for training. Rest is used for testing.\n",
    "        \n",
    "        \n",
    "        Returns:\n",
    "        --------\n",
    "        (trainX, trainY), (testX, testY)\n",
    "    \"\"\"\n",
    "\n",
    "    data_sets_len = []\n",
    "    for data in data_sets:\n",
    "        data_sets_len.append(len(data))\n",
    "\n",
    "    if len(labels) != len(data_sets):\n",
    "        labels = np.array(list(range(len(data_sets))))\n",
    "        \n",
    "    N_data_total  = sum(data_sets_len)\n",
    "    N_data_train = int(p_train * N_data_total)\n",
    "    N_data_test  = int((1 - p_train) * N_data_total)\n",
    "               \n",
    "    totalX = np.concatenate(data_sets, axis=0)\n",
    "    totalY = [np.array([label]*size) for label, size in zip(labels, data_sets_len)]\n",
    "    \n",
    "    totalY = np.concatenate(totalY, axis=0)\n",
    "\n",
    "    # Shuffle data.\n",
    "    totalX_randidx = np.array(range(N_data_total))\n",
    "    np.random.shuffle(totalX_randidx)\n",
    "\n",
    "    totalX = totalX[totalX_randidx]\n",
    "    totalY = totalY[totalX_randidx]\n",
    "\n",
    "    # Split into trian and test sets.\n",
    "    trainX = totalX[:N_data_train]\n",
    "    testX  = totalX[N_data_train:]\n",
    "\n",
    "    trainY = totalY[:N_data_train]\n",
    "    testY  = totalY[N_data_train:]\n",
    "    \n",
    "    return (trainX, trainY), (testX, testY)\n",
    "\n",
    "\n",
    "class NN_Synth_obj_classifier:\n",
    "    \"Aboutaleb class for loading and training a neural net with synthetic generated data sets.\"\n",
    "\n",
    "    def __init__(self, trainX, trainY, testX, testY, layers, activationFunc='sigmoid', lossFunc = 'categorical_crossentropy', optimizer = 'adam'):\n",
    "\n",
    "        # Set images properties.\n",
    "        self.trainX = self.load_images(trainX)\n",
    "        self.testX  = self.load_images(testX)\n",
    "        self.trainY = self.to_one_hot_encoding(trainY)\n",
    "        self.testY  = self.to_one_hot_encoding(testY)\n",
    "        \n",
    "        self.image_size  = self.trainX.shape[-1] \n",
    "        self.trainX_size = len(self.trainX)\n",
    "        \n",
    "        # Set network properties.\n",
    "        self.layers         = layers\n",
    "        self.activationFunc = activationFunc\n",
    "        self.lossFunc       = lossFunc\n",
    "        self.optimizer      = optimizer\n",
    "        \n",
    "        # Build and train network.\n",
    "        self.build_network()\n",
    "        self.compile_network()\n",
    "        \n",
    "        # Nice names for numeric labels. (Set manually)\n",
    "        self.shape_idx_to_name = dict(zip(np.unique(trainY), np.unique(trainY)))\n",
    "        \n",
    "    def load_images(self, images):\n",
    "        \n",
    "        if len(images.shape) < 3:\n",
    "            return images\n",
    "        \n",
    "        image_dim = images.shape[-1]\n",
    "        \n",
    "        return images.reshape(-1, image_dim*image_dim)\n",
    "\n",
    "    # Convert lablels to one-hot encoding.\n",
    "    def to_one_hot_encoding(self, labels):   \n",
    "        \n",
    "        if len(labels.shape) == 2:\n",
    "            return labels\n",
    "        \n",
    "        N_labels = len(np.unique(labels))\n",
    "\n",
    "        train_Y_onehot = np.array([[0]*N_labels]*len(labels))\n",
    "        for idx in range(len(train_Y_onehot)):\n",
    "            train_Y_onehot[idx][labels[idx]] = 1\n",
    "            \n",
    "        return train_Y_onehot\n",
    "        \n",
    "    def build_network(self):\n",
    "        net=kr.models.Sequential()\n",
    "        net.add(kr.layers.Dense(self.layers[1], input_shape=(self.image_size,), activation=self.activationFunc))\n",
    "        if(len(self.layers)>3):\n",
    "            for li in self.layers[2:-1]:\n",
    "                net.add(kr.layers.Dense(li, activation=self.activationFunc))\n",
    "        net.add(kr.layers.Dense(self.layers[-1], activation='softmax'))\n",
    "        self.net = net\n",
    "            \n",
    "    def compile_network(self):\n",
    "        self.net.compile(loss=self.lossFunc,\n",
    "                         optimizer=self.optimizer,\n",
    "                         metrics=['categorical_accuracy'])\n",
    "            \n",
    "    def train_network(self, batch_size=100, epochs=30):\n",
    "        self.history = self.net.fit(self.trainX, self.trainY, batch_size=batch_size, epochs=epochs)\n",
    "        \n",
    "    def test_network(self):\n",
    "        testX_noise_props   = self.net.predict_on_batch(self.testX)\n",
    "        testX_noise_results = np.argmax(testX_noise_props, axis=1)\n",
    "        accuracy            = sum((np.argmax(self.testY, axis=1) - testX_noise_results) == 0)/len(self.testY) \n",
    "        \n",
    "        return accuracy\n",
    "    \n",
    "    def test_example(self):\n",
    "        \n",
    "        rand_idx     = np.random.randint(len(self.testX))\n",
    "        image_sample = self.testX[rand_idx]\n",
    "        predict_prop = self.net.predict_on_batch(np.array([image_sample]))[0]\n",
    "        predict_label = np.argmax(predict_prop)\n",
    "        \n",
    "        print('Label:', self.shape_idx_to_name[np.argmax(self.testY[rand_idx])], ', Prediction:', self.shape_idx_to_name[predict_label],\\\n",
    "              ', (prob=', predict_prop[predict_label] , ')')\n",
    "\n",
    "        display_image(image_sample)"
   ]
  },
  {
   "cell_type": "markdown",
   "metadata": {},
   "source": [
    "## Test OpenCV2 image library"
   ]
  },
  {
   "cell_type": "code",
   "execution_count": 87,
   "metadata": {},
   "outputs": [
    {
     "data": {
      "image/png": "[encoded data removed]",
      "text/plain": [
       "<Figure size 432x288 with 2 Axes>"
      ]
     },
     "metadata": {
      "needs_background": "light"
     },
     "output_type": "display_data"
    },
    {
     "data": {
      "image/png": "[encoded data removed]",
      "text/plain": [
       "<Figure size 432x288 with 2 Axes>"
      ]
     },
     "metadata": {
      "needs_background": "light"
     },
     "output_type": "display_data"
    }
   ],
   "source": [
    "img1, img2 = np.zeros((2, 512, 512), np.uint8)\n",
    "\n",
    "circle = cv2.circle(img1, (128, 256), 16, 1, -1)\n",
    "square = cv2.rectangle(img2, (256, 128), (128,64), 1, -1)\n",
    "\n",
    "display_image(circle)\n",
    "display_image(square)"
   ]
  },
  {
   "cell_type": "markdown",
   "metadata": {},
   "source": [
    "## Create synthetic trianing data"
   ]
  },
  {
   "cell_type": "code",
   "execution_count": 88,
   "metadata": {},
   "outputs": [],
   "source": [
    "image_dim = 64\n",
    "N_images  = 50000\n",
    "\n",
    "r_max, r_min = int(image_dim/8), int(image_dim/2)\n",
    "s_max, s_min = int(image_dim/8), int(image_dim/2)\n",
    "\n",
    "image_size = image_dim*image_dim"
   ]
  },
  {
   "cell_type": "markdown",
   "metadata": {},
   "source": [
    "#### Create random disks"
   ]
  },
  {
   "cell_type": "code",
   "execution_count": 147,
   "metadata": {},
   "outputs": [],
   "source": [
    "circles_center_xy = np.random.randint(0, image_dim, (N_images, 2))\n",
    "circles_radius    = np.random.randint(r_max, r_min, N_images)\n",
    "\n",
    "images_disk = [cv2.circle(np.zeros((image_dim, image_dim), np.uint8), tuple(center_xy), r, 1, -1) for center_xy, r in zip(circles_center_xy, circles_radius)]\n",
    "images_disk = np.array(images_disk)"
   ]
  },
  {
   "cell_type": "markdown",
   "metadata": {},
   "source": [
    "#### Create random squares"
   ]
  },
  {
   "cell_type": "code",
   "execution_count": 148,
   "metadata": {},
   "outputs": [],
   "source": [
    "squares_size = np.random.randint(s_max, s_min, N_images)\n",
    "\n",
    "squares_topleft_xy     = np.random.randint(0, image_dim, (N_images, 2))\n",
    "squares_bottomright_xy = squares_topleft_xy + np.array([squares_size, squares_size]).reshape(-1,2)\n",
    "\n",
    "images_square = [cv2.rectangle(np.zeros((image_dim, image_dim), np.uint8), tuple(topleft_xy), tuple(bottomright_xy), 1, -1) for topleft_xy, bottomright_xy in zip(squares_topleft_xy, squares_bottomright_xy)]\n",
    "images_square = np.array(images_square)"
   ]
  },
  {
   "cell_type": "markdown",
   "metadata": {},
   "source": [
    "#### Create random circles"
   ]
  },
  {
   "cell_type": "code",
   "execution_count": 149,
   "metadata": {},
   "outputs": [],
   "source": [
    "circles_center_xy = np.random.randint(0, image_dim, (N_images, 2))\n",
    "circles_radius    = np.random.randint(r_max, r_min, N_images)\n",
    "\n",
    "images_cicle = [cv2.circle(np.zeros((image_dim, image_dim), np.uint8), tuple(center_xy), r, 1, 4) for center_xy, r in zip(circles_center_xy, circles_radius)]\n",
    "images_cicle = np.array(images_cicle)"
   ]
  },
  {
   "cell_type": "markdown",
   "metadata": {},
   "source": [
    "#### Create random triangles."
   ]
  },
  {
   "cell_type": "code",
   "execution_count": 234,
   "metadata": {},
   "outputs": [],
   "source": [
    "base_triangle_vertices = np.array([[0,0], [10,0], [5, 6]], np.int32) #np.int32\n",
    "\n",
    "pos_min, pos_max = 0, int(0.5*image_dim)\n",
    "dE = int(0.5*image_dim)\n",
    "\n",
    "triangles_bottom_left = np.random.randint(pos_min, pos_max, (N_images, 2))\n",
    "triangles_E12         = np.random.randint(10, dE, (N_images, 2))\n",
    "triangles_E13         = np.random.randint(10, dE, (N_images, 2))\n",
    "\n",
    "triangles_vertex_1 = triangles_bottom_left\n",
    "triangles_vertex_2 = triangles_bottom_left + triangles_E12\n",
    "triangles_vertex_3 = triangles_bottom_left + triangles_E13\n",
    "\n",
    "triangles_vertex_123 = np.array([[v1, v2, v3] for v1, v2, v3 in zip(triangles_vertex_1, triangles_vertex_2, triangles_vertex_3)], np.int32)\n",
    "triangles_vertex_123 = triangles_vertex_123.reshape((-1,1,3,2))\n",
    "#image_test = cv2.polylines(np.zeros((512, 512), np.uint8),[pts],True,1)\n",
    "\n",
    "images_triangle = [cv2.polylines(np.zeros((image_dim, image_dim), np.int32), tuple(vertex_123), True, 1, 2) for vertex_123 in triangles_vertex_123]\n",
    "images_triangle = np.array(images_triangle)"
   ]
  },
  {
   "cell_type": "code",
   "execution_count": 211,
   "metadata": {},
   "outputs": [],
   "source": [
    "triangles_vertex_123 = np.array([[v1, v2, v3] for v1, v2, v3 in zip(triangles_vertex_1, triangles_vertex_2, triangles_vertex_3)], np.int32)"
   ]
  },
  {
   "cell_type": "code",
   "execution_count": 220,
   "metadata": {},
   "outputs": [],
   "source": [
    "pts = triangles_vertex_123[:2]\n",
    "pts = pts.reshape((-1,1,3,2))\n",
    "a = cv2.polylines(np.zeros((image_dim, image_dim), np.int32), [pts[1]] ,True,1,2)"
   ]
  },
  {
   "cell_type": "code",
   "execution_count": 236,
   "metadata": {},
   "outputs": [
    {
     "data": {
      "image/png": "[encoded data removed]",
      "text/plain": [
       "<Figure size 432x288 with 2 Axes>"
      ]
     },
     "metadata": {
      "needs_background": "light"
     },
     "output_type": "display_data"
    }
   ],
   "source": [
    "display_image(images_triangle[0])"
   ]
  },
  {
   "cell_type": "markdown",
   "metadata": {},
   "source": [
    "#### Create train and test datasets"
   ]
  },
  {
   "cell_type": "code",
   "execution_count": 237,
   "metadata": {},
   "outputs": [],
   "source": [
    "(trainX, trainY), (testX, testY) = create_training_data([images_disk, images_square, images_cicle, images_triangle])"
   ]
  },
  {
   "cell_type": "code",
   "execution_count": null,
   "metadata": {},
   "outputs": [],
   "source": [
    "for idx in range(10):\n",
    "    rand_idx = np.random.randint(len(trainX))\n",
    "    print(rand_idx, shape_idx_to_name[trainY[rand_idx]])\n",
    "    display_image(trainX[rand_idx])"
   ]
  },
  {
   "cell_type": "markdown",
   "metadata": {},
   "source": [
    "### Train clasifier NN on fixed sized shapes"
   ]
  },
  {
   "cell_type": "code",
   "execution_count": 281,
   "metadata": {},
   "outputs": [],
   "source": [
    "NN_circle_square = NN_Synth_obj_classifier(trainX, trainY, testX, testY, layers = [image_size, 32, 4])\n",
    "NN_circle_square.shape_idx_to_name = shape_idx_to_name"
   ]
  },
  {
   "cell_type": "code",
   "execution_count": 285,
   "metadata": {},
   "outputs": [
    {
     "name": "stdout",
     "output_type": "stream",
     "text": [
      "Epoch 1/1\n",
      "160000/160000 [==============================] - 13s 84us/step - loss: 0.1381 - categorical_accuracy: 0.9550\n"
     ]
    }
   ],
   "source": [
    "NN_circle_square.train_network(epochs=1)"
   ]
  },
  {
   "cell_type": "code",
   "execution_count": 286,
   "metadata": {},
   "outputs": [
    {
     "data": {
      "text/plain": [
       "0.950925"
      ]
     },
     "execution_count": 286,
     "metadata": {},
     "output_type": "execute_result"
    }
   ],
   "source": [
    "NN_circle_square.test_network()"
   ]
  },
  {
   "cell_type": "code",
   "execution_count": 287,
   "metadata": {},
   "outputs": [
    {
     "name": "stdout",
     "output_type": "stream",
     "text": [
      "Label: circle , Prediction: circle , (prob= 0.9666539 )\n"
     ]
    },
    {
     "data": {
      "image/png": "[encoded data removed]",
      "text/plain": [
       "<Figure size 432x288 with 2 Axes>"
      ]
     },
     "metadata": {
      "needs_background": "light"
     },
     "output_type": "display_data"
    }
   ],
   "source": [
    "NN_circle_square.test_example()"
   ]
  },
  {
   "cell_type": "markdown",
   "metadata": {},
   "source": [
    "### Visualize weights"
   ]
  },
  {
   "cell_type": "code",
   "execution_count": null,
   "metadata": {},
   "outputs": [],
   "source": [
    "for layer in model.layers:\n",
    "    weights = layer.get_weights() # list of numpy arrays"
   ]
  },
  {
   "cell_type": "code",
   "execution_count": 289,
   "metadata": {},
   "outputs": [],
   "source": [
    "weight_matrices = []\n",
    "for layer in NN_circle_square.net.layers:\n",
    "    weight_matrices.append(layer.get_weights())"
   ]
  },
  {
   "cell_type": "code",
   "execution_count": 290,
   "metadata": {},
   "outputs": [
    {
     "data": {
      "text/plain": [
       "(4096, 32)"
      ]
     },
     "execution_count": 290,
     "metadata": {},
     "output_type": "execute_result"
    }
   ],
   "source": [
    "weight_matrices[0][0].shape"
   ]
  }
 ],
 "metadata": {
  "kernelspec": {
   "display_name": "Python 3",
   "language": "python",
   "name": "python3"
  },
  "language_info": {
   "codemirror_mode": {
    "name": "ipython",
    "version": 3
   },
   "file_extension": ".py",
   "mimetype": "text/x-python",
   "name": "python",
   "nbconvert_exporter": "python",
   "pygments_lexer": "ipython3",
   "version": "3.7.5"
  }
 },
 "nbformat": 4,
 "nbformat_minor": 4
}
