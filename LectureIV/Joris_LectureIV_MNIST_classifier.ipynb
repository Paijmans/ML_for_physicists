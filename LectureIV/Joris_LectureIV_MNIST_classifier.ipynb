{
 "cells": [
  {
   "cell_type": "markdown",
   "metadata": {},
   "source": [
    "# NN for MNIST classification"
   ]
  },
  {
   "cell_type": "code",
   "execution_count": 16,
   "metadata": {},
   "outputs": [],
   "source": [
    "# Import the numpy library for matrix manipulations etc.\n",
    "import numpy as np\n",
    "import pandas as pd\n",
    "import os\n",
    "import sys\n",
    "\n",
    "# Set up the graphics by importing the matplotlib plotting library\n",
    "import matplotlib.pyplot as plt\n",
    "\n",
    "import keras as kr\n",
    "from keras.models import Sequential\n",
    "from keras.layers import Dense\n",
    "\n",
    "# Load data\n",
    "from keras.datasets import fashion_mnist \n",
    "from keras.datasets import mnist \n",
    "\n",
    "(train_X,train_Y), (test_X,test_Y) = mnist.load_data()\n",
    "\n",
    "image_dim = 28\n",
    "image_size = image_dim*image_dim\n",
    "\n",
    "trainX_flat = train_X.reshape(-1, image_size)\n",
    "testX_flat  = test_X.reshape(-1, image_size)"
   ]
  },
  {
   "cell_type": "code",
   "execution_count": 2,
   "metadata": {},
   "outputs": [],
   "source": [
    "def display_image(image_array, clim=None):\n",
    "    \"\"\" Show a single image with colorbar. Image given in 1D or 2D representation. \"\"\"\n",
    "    \n",
    "    plt.imshow(np.reshape(image_array,[28,28]), interpolation='nearest', cmap='binary')\n",
    "    if clim is None:\n",
    "        plt.clim([image_array.min(),image_array.max()])\n",
    "    else:\n",
    "        plt.clim(clim)\n",
    "        \n",
    "    plt.colorbar()\n",
    "    plt.show()"
   ]
  },
  {
   "cell_type": "code",
   "execution_count": 3,
   "metadata": {},
   "outputs": [],
   "source": [
    "class NN_MNIST_classifier:\n",
    "    \"Aboutaleb class for loading and training a neural net with the MNIST data.\"\n",
    "    \n",
    "    def __init__(self, trainX, trainY, testX, testY, layers, activationFunc='sigmoid', lossFunc = 'categorical_crossentropy', optimizer = 'adam'):\n",
    "\n",
    "        # Set images properties.\n",
    "        self.trainX = self.load_images(trainX)\n",
    "        self.testX  = self.load_images(testX)\n",
    "        self.trainY = self.to_one_hot_encoding(trainY)\n",
    "        self.testY  = self.to_one_hot_encoding(testY)\n",
    "        \n",
    "        self.image_size  = self.trainX.shape[-1] \n",
    "        self.trainX_size = len(self.trainX)\n",
    "        \n",
    "        # Set network properties.\n",
    "        self.layers         = layers\n",
    "        self.activationFunc = activationFunc\n",
    "        self.lossFunc       = lossFunc\n",
    "        self.optimizer      = optimizer\n",
    "        \n",
    "        # Build and train network.\n",
    "        self.build_network()\n",
    "        self.compile_network()\n",
    "        \n",
    "    def load_images(self, images):\n",
    "        \n",
    "        if len(images.shape) < 3:\n",
    "            return images\n",
    "        \n",
    "        image_dim = images.shape[-1]\n",
    "        \n",
    "        return images.reshape(-1, image_dim*image_dim)\n",
    "\n",
    "    # Convert lablels to one-hot encoding.\n",
    "    def to_one_hot_encoding(self, labels):   \n",
    "        \n",
    "        if len(labels.shape) == 2:\n",
    "            return labels\n",
    "\n",
    "        train_Y_onehot = np.array([[0]*10]*len(labels))\n",
    "        for idx in range(len(train_Y_onehot)):\n",
    "            train_Y_onehot[idx][labels[idx]] = 1\n",
    "            \n",
    "        return train_Y_onehot\n",
    "        \n",
    "    def build_network(self):\n",
    "        net=kr.models.Sequential()\n",
    "        net.add(kr.layers.Dense(self.layers[1], input_shape=(self.image_size,), activation=self.activationFunc))\n",
    "        if(len(self.layers)>3):\n",
    "            for li in self.layers[2:-1]:\n",
    "                net.add(kr.layers.Dense(li, activation=self.activationFunc))\n",
    "        net.add(kr.layers.Dense(self.layers[-1], activation='softmax'))\n",
    "        self.net = net\n",
    "            \n",
    "    def compile_network(self):\n",
    "        self.net.compile(loss=self.lossFunc,\n",
    "                         optimizer=self.optimizer,\n",
    "                         metrics=['categorical_accuracy'])\n",
    "            \n",
    "    def train_network(self, batch_size=100, epochs=30):\n",
    "        self.history = self.net.fit(self.trainX, self.trainY, batch_size=batch_size, epochs=epochs)\n",
    "        \n",
    "    def test_network(self):\n",
    "        testX_noise_props   = self.net.predict_on_batch(self.testX)\n",
    "        testX_noise_results = np.argmax(testX_noise_props, axis=1)\n",
    "        accuracy            = sum((np.argmax(self.testY, axis=1) - testX_noise_results) == 0)/len(self.testY) \n",
    "        \n",
    "        return accuracy\n",
    "        "
   ]
  },
  {
   "cell_type": "markdown",
   "metadata": {},
   "source": [
    "## Original MNIST training example"
   ]
  },
  {
   "cell_type": "markdown",
   "metadata": {},
   "source": [
    "### Create and fit NN"
   ]
  },
  {
   "cell_type": "code",
   "execution_count": 34,
   "metadata": {},
   "outputs": [],
   "source": [
    "NN_default = NN_MNIST_classifier(train_X, train_Y, test_X, test_Y, layers = [image_size, 350, 350, 100, 10])"
   ]
  },
  {
   "cell_type": "code",
   "execution_count": 35,
   "metadata": {},
   "outputs": [
    {
     "name": "stdout",
     "output_type": "stream",
     "text": [
      "Epoch 1/15\n",
      "60000/60000 [==============================] - 11s 188us/step - loss: 0.5349 - categorical_accuracy: 0.8542\n",
      "Epoch 2/15\n",
      "60000/60000 [==============================] - 10s 174us/step - loss: 0.2757 - categorical_accuracy: 0.9152\n",
      "Epoch 3/15\n",
      "60000/60000 [==============================] - 11s 192us/step - loss: 0.2446 - categorical_accuracy: 0.9249\n",
      "Epoch 4/15\n",
      "60000/60000 [==============================] - 10s 175us/step - loss: 0.2213 - categorical_accuracy: 0.9307\n",
      "Epoch 5/15\n",
      "60000/60000 [==============================] - 10s 165us/step - loss: 0.2170 - categorical_accuracy: 0.9327\n",
      "Epoch 6/15\n",
      "60000/60000 [==============================] - 10s 171us/step - loss: 0.2076 - categorical_accuracy: 0.9333\n",
      "Epoch 7/15\n",
      "60000/60000 [==============================] - 10s 174us/step - loss: 0.2043 - categorical_accuracy: 0.9356\n",
      "Epoch 8/15\n",
      "60000/60000 [==============================] - 10s 168us/step - loss: 0.1935 - categorical_accuracy: 0.9388\n",
      "Epoch 9/15\n",
      "60000/60000 [==============================] - 11s 184us/step - loss: 0.1839 - categorical_accuracy: 0.9421\n",
      "Epoch 10/15\n",
      "60000/60000 [==============================] - 10s 169us/step - loss: 0.1748 - categorical_accuracy: 0.9452\n",
      "Epoch 11/15\n",
      "60000/60000 [==============================] - 10s 173us/step - loss: 0.1712 - categorical_accuracy: 0.9448\n",
      "Epoch 12/15\n",
      "60000/60000 [==============================] - 11s 177us/step - loss: 0.1634 - categorical_accuracy: 0.9481\n",
      "Epoch 13/15\n",
      "60000/60000 [==============================] - 12s 192us/step - loss: 0.1587 - categorical_accuracy: 0.9493\n",
      "Epoch 14/15\n",
      "60000/60000 [==============================] - 11s 179us/step - loss: 0.1486 - categorical_accuracy: 0.9545\n",
      "Epoch 15/15\n",
      "60000/60000 [==============================] - 11s 179us/step - loss: 0.1439 - categorical_accuracy: 0.9543\n"
     ]
    }
   ],
   "source": [
    "NN_default.train_network(epochs=15)"
   ]
  },
  {
   "cell_type": "code",
   "execution_count": 36,
   "metadata": {},
   "outputs": [
    {
     "data": {
      "text/plain": [
       "0.9468"
      ]
     },
     "execution_count": 36,
     "metadata": {},
     "output_type": "execute_result"
    }
   ],
   "source": [
    "NN_default.test_network()"
   ]
  },
  {
   "cell_type": "markdown",
   "metadata": {},
   "source": [
    "## Images distrorted with noise"
   ]
  },
  {
   "cell_type": "code",
   "execution_count": 151,
   "metadata": {},
   "outputs": [],
   "source": [
    "def image_with_normal_noise(images_flat, mean = 0., sigma=25):\n",
    "    \"\"\" Add normal distributed noise to list of 1D images. \"\"\"\n",
    "    \n",
    "    images_flat_double = np.array(images_flat)\n",
    "    images_flat_double = images_flat_double.astype(np.double)\n",
    "\n",
    "    image_size = images_flat_double.shape[-1]\n",
    "    image_noise = np.random.normal(mean, sigma, (len(images_flat_double), image_size))\n",
    "    \n",
    "    return images_flat_double + image_noise"
   ]
  },
  {
   "cell_type": "code",
   "execution_count": 194,
   "metadata": {},
   "outputs": [],
   "source": [
    "def image_with_salt_pepper_noise(images_flat, frac = 0.1):\n",
    "    \"\"\" Add salt-pepper noise (spickles) to list of 1D images. \"\"\"\n",
    "\n",
    "    images_flat_double = np.array(images_flat)\n",
    "    images_flat_double = images_flat_double.astype(np.double)\n",
    "\n",
    "    image_size = images_flat_double.shape[-1]\n",
    "    N_images   = len(images_flat_double)\n",
    "    \n",
    "    N_salt_pepper_pixels = int(np.round(frac * image_size,0))\n",
    "    \n",
    "    images_salt_pepper_pixels = np.random.randint(0, image_size, N_salt_pepper_pixels * N_images).reshape(-1, N_salt_pepper_pixels)\n",
    "    \n",
    "    for image_idx, salt_pepper_pixels in enumerate(images_salt_pepper_pixels):\n",
    "        images_flat_double[image_idx][salt_pepper_pixels] = 255.\n",
    "    \n",
    "    return images_flat_double"
   ]
  },
  {
   "cell_type": "code",
   "execution_count": 30,
   "metadata": {},
   "outputs": [],
   "source": [
    "def image_occlusion(images_flat, horizontal=True, second_half=True):\n",
    "    \"\"\" Remove half of the images. Select horizontal/vertical and first/second half. \"\"\"\n",
    "\n",
    "    image_dim  = 28\n",
    "    image_size = image_dim*image_dim\n",
    "    N_images   = len(images_flat)\n",
    "    images_occ = np.array(images_flat).copy()\n",
    "    \n",
    "    occ_filter = []\n",
    "    if horizontal:\n",
    "        # remove horizontal half\n",
    "        half_size = int(0.5*image_dim*image_dim)\n",
    "        block1 = np.ones((N_images, half_size), np.uint8)\n",
    "        block2 = np.zeros((N_images, half_size), np.uint8)\n",
    "        occ_filter = np.concatenate([block1,block2], axis=1)\n",
    "    else:\n",
    "        # remove vertical half\n",
    "        linefilter = np.concatenate([np.ones(int(0.5*image_dim), np.uint8), np.zeros(int(0.5*image_dim), np.uint8)])\n",
    "        occ_filter = np.concatenate([linefilter]*image_dim)\n",
    "        \n",
    "    if second_half:\n",
    "        occ_filter = 1 - occ_filter\n",
    "    \n",
    "    return images_occ * occ_filter"
   ]
  },
  {
   "cell_type": "code",
   "execution_count": 200,
   "metadata": {},
   "outputs": [
    {
     "data": {
      "image/png": "[encoded data removed]",
      "text/plain": [
       "<Figure size 432x288 with 2 Axes>"
      ]
     },
     "metadata": {
      "needs_background": "light"
     },
     "output_type": "display_data"
    },
    {
     "data": {
      "image/png": "[encoded data removed]",
      "text/plain": [
       "<Figure size 432x288 with 2 Axes>"
      ]
     },
     "metadata": {
      "needs_background": "light"
     },
     "output_type": "display_data"
    },
    {
     "data": {
      "image/png": "[encoded data removed]",
      "text/plain": [
       "<Figure size 432x288 with 2 Axes>"
      ]
     },
     "metadata": {
      "needs_background": "light"
     },
     "output_type": "display_data"
    }
   ],
   "source": [
    "test_idx = np.random.randint(len(test_X))\n",
    "sample_image_flat    = test_X[test_idx].reshape(-1,image_size)\n",
    "sample_image_flat_sp = image_with_salt_pepper_noise(sample_image_flat, 0.2)\n",
    "sample_image_flat_nm = image_with_normal_noise(sample_image_flat, 100)\n",
    "\n",
    "display_image(sample_image_flat)\n",
    "display_image(sample_image_flat_sp)\n",
    "display_image(sample_image_flat_nm)"
   ]
  },
  {
   "cell_type": "markdown",
   "metadata": {},
   "source": [
    "### Predict using noise free net on noisy images "
   ]
  },
  {
   "cell_type": "code",
   "execution_count": null,
   "metadata": {},
   "outputs": [],
   "source": [
    "sigma_list = np.arange(0, 200, 10)\n",
    "accuracy_list = []\n",
    "for sigma in sigma_list:\n",
    "    \n",
    "    testX_flat_noise  = image_with_normal_noise(testX_flat, 0., sigma)\n",
    "    accuracy_list.append(NN_default.test_network())    \n",
    "    \n",
    "    print('Training accuray with noise ($\\\\sigma$ =', sigma, '):', accuracy_list[-1])"
   ]
  },
  {
   "cell_type": "code",
   "execution_count": 167,
   "metadata": {},
   "outputs": [
    {
     "data": {
      "image/png": "[encoded data removed]",
      "text/plain": [
       "<Figure size 432x288 with 1 Axes>"
      ]
     },
     "metadata": {
      "needs_background": "light"
     },
     "output_type": "display_data"
    }
   ],
   "source": [
    "plt.plot(sigma_list, accuracy_list, 'o')\n",
    "plt.xlabel('Noise - $\\\\sigma$')\n",
    "plt.ylabel('Accuracy')\n",
    "plt.show()"
   ]
  },
  {
   "cell_type": "markdown",
   "metadata": {},
   "source": [
    "### Training: Images with normal distributed noise"
   ]
  },
  {
   "cell_type": "code",
   "execution_count": 198,
   "metadata": {},
   "outputs": [],
   "source": [
    "trainX_flat_noise_normal = image_with_normal_noise(trainX_flat, 0., 100.)\n",
    "testX_flat_noise_normal  = image_with_normal_noise(testX_flat,  0., 100.)\n",
    "\n",
    "trainX_flat_noise_sp = image_with_salt_pepper_noise(trainX_flat, 0.2)\n",
    "testX_flat_noise_sp  = image_with_salt_pepper_noise(testX_flat,  0.2)"
   ]
  },
  {
   "cell_type": "code",
   "execution_count": 232,
   "metadata": {},
   "outputs": [
    {
     "name": "stdout",
     "output_type": "stream",
     "text": [
      "Epoch 1/30\n",
      "60000/60000 [==============================] - 11s 185us/step - loss: 0.8088 - categorical_accuracy: 0.7556\n",
      "Epoch 2/30\n",
      "60000/60000 [==============================] - 12s 195us/step - loss: 0.4559 - categorical_accuracy: 0.8556\n",
      "Epoch 3/30\n",
      "60000/60000 [==============================] - 11s 182us/step - loss: 0.3942 - categorical_accuracy: 0.8751\n",
      "Epoch 4/30\n",
      "60000/60000 [==============================] - 8s 138us/step - loss: 0.3642 - categorical_accuracy: 0.8841\n",
      "Epoch 5/30\n",
      "60000/60000 [==============================] - 9s 145us/step - loss: 0.3364 - categorical_accuracy: 0.8937\n",
      "Epoch 6/30\n",
      "60000/60000 [==============================] - 8s 139us/step - loss: 0.3154 - categorical_accuracy: 0.8978\n",
      "Epoch 7/30\n",
      "60000/60000 [==============================] - 9s 149us/step - loss: 0.2948 - categorical_accuracy: 0.9053\n",
      "Epoch 8/30\n",
      "60000/60000 [==============================] - 9s 146us/step - loss: 0.2731 - categorical_accuracy: 0.9123\n",
      "Epoch 9/30\n",
      "60000/60000 [==============================] - 9s 142us/step - loss: 0.2539 - categorical_accuracy: 0.9179\n",
      "Epoch 10/30\n",
      "60000/60000 [==============================] - 9s 143us/step - loss: 0.2516 - categorical_accuracy: 0.9189\n",
      "Epoch 11/30\n",
      "60000/60000 [==============================] - 9s 151us/step - loss: 0.2439 - categorical_accuracy: 0.9201\n",
      "Epoch 12/30\n",
      "60000/60000 [==============================] - 8s 137us/step - loss: 0.2349 - categorical_accuracy: 0.9231\n",
      "Epoch 13/30\n",
      "60000/60000 [==============================] - 7s 120us/step - loss: 0.2224 - categorical_accuracy: 0.9271\n",
      "Epoch 14/30\n",
      "60000/60000 [==============================] - 8s 132us/step - loss: 0.2116 - categorical_accuracy: 0.9313\n",
      "Epoch 15/30\n",
      "60000/60000 [==============================] - 8s 134us/step - loss: 0.2030 - categorical_accuracy: 0.9331\n",
      "Epoch 16/30\n",
      "60000/60000 [==============================] - 9s 144us/step - loss: 0.1955 - categorical_accuracy: 0.9356\n",
      "Epoch 17/30\n",
      "60000/60000 [==============================] - 8s 131us/step - loss: 0.1890 - categorical_accuracy: 0.9380\n",
      "Epoch 18/30\n",
      "60000/60000 [==============================] - 9s 143us/step - loss: 0.1792 - categorical_accuracy: 0.9410\n",
      "Epoch 19/30\n",
      "60000/60000 [==============================] - 9s 151us/step - loss: 0.1747 - categorical_accuracy: 0.9420\n",
      "Epoch 20/30\n",
      "60000/60000 [==============================] - 8s 141us/step - loss: 0.1709 - categorical_accuracy: 0.9439\n",
      "Epoch 21/30\n",
      "60000/60000 [==============================] - 9s 150us/step - loss: 0.1635 - categorical_accuracy: 0.9457\n",
      "Epoch 22/30\n",
      "60000/60000 [==============================] - 8s 139us/step - loss: 0.1546 - categorical_accuracy: 0.9485\n",
      "Epoch 23/30\n",
      "60000/60000 [==============================] - 8s 139us/step - loss: 0.1502 - categorical_accuracy: 0.9494\n",
      "Epoch 24/30\n",
      "60000/60000 [==============================] - 8s 127us/step - loss: 0.1478 - categorical_accuracy: 0.9509\n",
      "Epoch 25/30\n",
      "60000/60000 [==============================] - 9s 146us/step - loss: 0.1407 - categorical_accuracy: 0.9530\n",
      "Epoch 26/30\n",
      "60000/60000 [==============================] - 9s 154us/step - loss: 0.1384 - categorical_accuracy: 0.9527\n",
      "Epoch 27/30\n",
      "60000/60000 [==============================] - 8s 138us/step - loss: 0.1333 - categorical_accuracy: 0.9552\n",
      "Epoch 28/30\n",
      "60000/60000 [==============================] - 8s 136us/step - loss: 0.1293 - categorical_accuracy: 0.9565\n",
      "Epoch 29/30\n",
      "60000/60000 [==============================] - 8s 127us/step - loss: 0.1233 - categorical_accuracy: 0.9587\n",
      "Epoch 30/30\n",
      "60000/60000 [==============================] - 9s 146us/step - loss: 0.1226 - categorical_accuracy: 0.9582\n"
     ]
    },
    {
     "data": {
      "text/plain": [
       "0.9309"
      ]
     },
     "execution_count": 232,
     "metadata": {},
     "output_type": "execute_result"
    }
   ],
   "source": [
    "NN_noise_normal = NN_MNIST_classifier(trainX_flat_noise_normal, train_Y, testX_flat_noise_normal, test_Y, layers = [image_size, 350, 350, 100, 10])\n",
    "NN_noise_normal.train_network(epochs=30)\n",
    "NN_noise_normal.test_network()"
   ]
  },
  {
   "cell_type": "code",
   "execution_count": null,
   "metadata": {},
   "outputs": [],
   "source": [
    "sigma_list = np.arange(0, 200, 10)\n",
    "accuracy_noise_list = []\n",
    "for sigma in sigma_list:\n",
    "    \n",
    "    testX_flat_noise  = image_with_normal_noise(testX_flat, 0., sigma)\n",
    "    accuracy_noise_list.append(NN_noise_normal.test_network())\n",
    "    \n",
    "    print('Training accuray with noise ($\\\\sigma$ =', sigma, '):', accuracy_noise_list[-1])"
   ]
  },
  {
   "cell_type": "code",
   "execution_count": 172,
   "metadata": {},
   "outputs": [
    {
     "data": {
      "image/png": "[encoded data removed]",
      "text/plain": [
       "<Figure size 432x288 with 1 Axes>"
      ]
     },
     "metadata": {
      "needs_background": "light"
     },
     "output_type": "display_data"
    }
   ],
   "source": [
    "plt.plot(sigma_list, accuracy_list, 'o')\n",
    "plt.plot(sigma_list, accuracy_noise_list, 'o')\n",
    "plt.xlabel('Noise - $\\\\sigma$')\n",
    "plt.ylabel('Accuracy')\n",
    "plt.show()"
   ]
  },
  {
   "cell_type": "markdown",
   "metadata": {},
   "source": [
    "### Training: Images with salt-and-pepper noise"
   ]
  },
  {
   "cell_type": "code",
   "execution_count": 231,
   "metadata": {},
   "outputs": [
    {
     "name": "stdout",
     "output_type": "stream",
     "text": [
      "Epoch 1/30\n",
      "60000/60000 [==============================] - 11s 191us/step - loss: 1.0469 - categorical_accuracy: 0.6746\n",
      "Epoch 2/30\n",
      "60000/60000 [==============================] - 12s 201us/step - loss: 0.7494 - categorical_accuracy: 0.7503\n",
      "Epoch 3/30\n",
      "60000/60000 [==============================] - 10s 160us/step - loss: 0.7155 - categorical_accuracy: 0.7634\n",
      "Epoch 4/30\n",
      "60000/60000 [==============================] - 9s 152us/step - loss: 0.6753 - categorical_accuracy: 0.7740\n",
      "Epoch 5/30\n",
      "60000/60000 [==============================] - 8s 133us/step - loss: 0.6432 - categorical_accuracy: 0.7855\n",
      "Epoch 6/30\n",
      "60000/60000 [==============================] - 9s 147us/step - loss: 0.6189 - categorical_accuracy: 0.7950\n",
      "Epoch 7/30\n",
      "60000/60000 [==============================] - 9s 146us/step - loss: 0.6227 - categorical_accuracy: 0.7915\n",
      "Epoch 8/30\n",
      "60000/60000 [==============================] - 9s 154us/step - loss: 0.5814 - categorical_accuracy: 0.8060\n",
      "Epoch 9/30\n",
      "60000/60000 [==============================] - 9s 148us/step - loss: 0.5502 - categorical_accuracy: 0.8181\n",
      "Epoch 10/30\n",
      "60000/60000 [==============================] - 8s 141us/step - loss: 0.5619 - categorical_accuracy: 0.8126\n",
      "Epoch 11/30\n",
      "60000/60000 [==============================] - 9s 145us/step - loss: 0.5414 - categorical_accuracy: 0.8199\n",
      "Epoch 12/30\n",
      "60000/60000 [==============================] - 8s 136us/step - loss: 0.5354 - categorical_accuracy: 0.8227\n",
      "Epoch 13/30\n",
      "60000/60000 [==============================] - 9s 143us/step - loss: 0.5334 - categorical_accuracy: 0.8241\n",
      "Epoch 14/30\n",
      "60000/60000 [==============================] - 8s 141us/step - loss: 0.5186 - categorical_accuracy: 0.8284\n",
      "Epoch 15/30\n",
      "60000/60000 [==============================] - 8s 141us/step - loss: 0.5202 - categorical_accuracy: 0.8280\n",
      "Epoch 16/30\n",
      "60000/60000 [==============================] - 8s 141us/step - loss: 0.5049 - categorical_accuracy: 0.8345\n",
      "Epoch 17/30\n",
      "60000/60000 [==============================] - 9s 150us/step - loss: 0.5143 - categorical_accuracy: 0.8298\n",
      "Epoch 18/30\n",
      "60000/60000 [==============================] - 9s 156us/step - loss: 0.4906 - categorical_accuracy: 0.8368\n",
      "Epoch 19/30\n",
      "60000/60000 [==============================] - 10s 161us/step - loss: 0.4890 - categorical_accuracy: 0.8364\n",
      "Epoch 20/30\n",
      "60000/60000 [==============================] - 10s 166us/step - loss: 0.4838 - categorical_accuracy: 0.8404\n",
      "Epoch 21/30\n",
      "60000/60000 [==============================] - 9s 158us/step - loss: 0.4748 - categorical_accuracy: 0.8429\n",
      "Epoch 22/30\n",
      "60000/60000 [==============================] - 10s 160us/step - loss: 0.4825 - categorical_accuracy: 0.8397\n",
      "Epoch 23/30\n",
      "60000/60000 [==============================] - 10s 169us/step - loss: 0.4517 - categorical_accuracy: 0.8510\n",
      "Epoch 24/30\n",
      "60000/60000 [==============================] - 11s 184us/step - loss: 0.4389 - categorical_accuracy: 0.8551\n",
      "Epoch 25/30\n",
      "60000/60000 [==============================] - 9s 156us/step - loss: 0.4392 - categorical_accuracy: 0.8535\n",
      "Epoch 26/30\n",
      "60000/60000 [==============================] - 9s 152us/step - loss: 0.4539 - categorical_accuracy: 0.8497\n",
      "Epoch 27/30\n",
      "60000/60000 [==============================] - 9s 148us/step - loss: 0.4396 - categorical_accuracy: 0.8551\n",
      "Epoch 28/30\n",
      "60000/60000 [==============================] - 8s 141us/step - loss: 0.4328 - categorical_accuracy: 0.8577\n",
      "Epoch 29/30\n",
      "60000/60000 [==============================] - 9s 151us/step - loss: 0.4324 - categorical_accuracy: 0.8562\n",
      "Epoch 30/30\n",
      "60000/60000 [==============================] - 9s 149us/step - loss: 0.4121 - categorical_accuracy: 0.8625\n"
     ]
    },
    {
     "data": {
      "text/plain": [
       "0.844"
      ]
     },
     "execution_count": 231,
     "metadata": {},
     "output_type": "execute_result"
    }
   ],
   "source": [
    "NN_noise_sp = NN_MNIST_classifier(trainX_flat_noise_sp, train_Y, testX_flat_noise_sp, test_Y, layers = [image_size, 350, 350, 100, 10])\n",
    "NN_noise_sp.train_network(epochs=30)\n",
    "NN_noise_sp.test_network()"
   ]
  },
  {
   "cell_type": "markdown",
   "metadata": {},
   "source": [
    "### Occlude images"
   ]
  },
  {
   "cell_type": "code",
   "execution_count": 31,
   "metadata": {},
   "outputs": [],
   "source": [
    "trainX_flat_occ_hor1 = image_occlusion(trainX_flat, horizontal=True, second_half=True)\n",
    "testX_flat_occ_hor1 = image_occlusion(testX_flat, horizontal=True, second_half=True)\n",
    "\n",
    "trainX_flat_occ_hor2 = image_occlusion(trainX_flat, horizontal=True, second_half=False)\n",
    "testX_flat_occ_hor2 = image_occlusion(testX_flat, horizontal=True, second_half=False)\n",
    "\n",
    "trainX_flat_occ_ver1 = image_occlusion(trainX_flat, horizontal=False, second_half=True)\n",
    "testX_flat_occ_ver1 = image_occlusion(testX_flat, horizontal=False, second_half=True)\n",
    "\n",
    "trainX_flat_occ_ver2 = image_occlusion(trainX_flat, horizontal=False, second_half=False)\n",
    "testX_flat_occ_ver2 = image_occlusion(testX_flat, horizontal=False, second_half=False)"
   ]
  },
  {
   "cell_type": "code",
   "execution_count": 44,
   "metadata": {},
   "outputs": [
    {
     "data": {
      "image/png": "[encoded data removed]",
      "text/plain": [
       "<Figure size 432x288 with 2 Axes>"
      ]
     },
     "metadata": {
      "needs_background": "light"
     },
     "output_type": "display_data"
    },
    {
     "data": {
      "image/png": "[encoded data removed]",
      "text/plain": [
       "<Figure size 432x288 with 2 Axes>"
      ]
     },
     "metadata": {
      "needs_background": "light"
     },
     "output_type": "display_data"
    },
    {
     "data": {
      "image/png": "[encoded data removed]",
      "text/plain": [
       "<Figure size 432x288 with 2 Axes>"
      ]
     },
     "metadata": {
      "needs_background": "light"
     },
     "output_type": "display_data"
    },
    {
     "data": {
      "image/png": "[encoded data removed]",
      "text/plain": [
       "<Figure size 432x288 with 2 Axes>"
      ]
     },
     "metadata": {
      "needs_background": "light"
     },
     "output_type": "display_data"
    },
    {
     "data": {
      "image/png": "[encoded data removed]",
      "text/plain": [
       "<Figure size 432x288 with 2 Axes>"
      ]
     },
     "metadata": {
      "needs_background": "light"
     },
     "output_type": "display_data"
    }
   ],
   "source": [
    "test_idx = np.random.randint(len(testX_flat_occ))\n",
    "display_image(testX_flat[test_idx])\n",
    "display_image(testX_flat_occ_hor1[test_idx])\n",
    "display_image(testX_flat_occ_hor2[test_idx])\n",
    "display_image(testX_flat_occ_ver1[test_idx])\n",
    "display_image(testX_flat_occ_ver2[test_idx])"
   ]
  },
  {
   "cell_type": "code",
   "execution_count": 51,
   "metadata": {},
   "outputs": [
    {
     "data": {
      "text/plain": [
       "1"
      ]
     },
     "execution_count": 51,
     "metadata": {},
     "output_type": "execute_result"
    }
   ],
   "source": [
    "np.argmax(NN_occ_hor1.net.predict_on_batch(np.array([testX_flat_occ_hor1[test_idx]])))"
   ]
  },
  {
   "cell_type": "code",
   "execution_count": 37,
   "metadata": {},
   "outputs": [
    {
     "name": "stdout",
     "output_type": "stream",
     "text": [
      "Epoch 1/15\n",
      "60000/60000 [==============================] - 12s 204us/step - loss: 0.7143 - categorical_accuracy: 0.7714\n",
      "Epoch 2/15\n",
      "60000/60000 [==============================] - 10s 171us/step - loss: 0.4656 - categorical_accuracy: 0.8359\n",
      "Epoch 3/15\n",
      "60000/60000 [==============================] - 11s 176us/step - loss: 0.4269 - categorical_accuracy: 0.8473\n",
      "Epoch 4/15\n",
      "60000/60000 [==============================] - 10s 170us/step - loss: 0.4150 - categorical_accuracy: 0.8490\n",
      "Epoch 5/15\n",
      "60000/60000 [==============================] - 11s 179us/step - loss: 0.3987 - categorical_accuracy: 0.8538\n",
      "Epoch 6/15\n",
      "60000/60000 [==============================] - 12s 194us/step - loss: 0.3929 - categorical_accuracy: 0.8555\n",
      "Epoch 7/15\n",
      "60000/60000 [==============================] - 11s 181us/step - loss: 0.3791 - categorical_accuracy: 0.8596\n",
      "Epoch 8/15\n",
      "60000/60000 [==============================] - 10s 174us/step - loss: 0.3703 - categorical_accuracy: 0.8618\n",
      "Epoch 9/15\n",
      "60000/60000 [==============================] - 10s 165us/step - loss: 0.3578 - categorical_accuracy: 0.8660\n",
      "Epoch 10/15\n",
      "60000/60000 [==============================] - 10s 170us/step - loss: 0.3569 - categorical_accuracy: 0.8664\n",
      "Epoch 11/15\n",
      "60000/60000 [==============================] - 9s 158us/step - loss: 0.3517 - categorical_accuracy: 0.8690\n",
      "Epoch 12/15\n",
      "60000/60000 [==============================] - 10s 169us/step - loss: 0.3353 - categorical_accuracy: 0.8738\n",
      "Epoch 13/15\n",
      "60000/60000 [==============================] - 10s 168us/step - loss: 0.3347 - categorical_accuracy: 0.8732\n",
      "Epoch 14/15\n",
      "60000/60000 [==============================] - 10s 172us/step - loss: 0.3335 - categorical_accuracy: 0.8738\n",
      "Epoch 15/15\n",
      "60000/60000 [==============================] - 10s 172us/step - loss: 0.3250 - categorical_accuracy: 0.8776\n"
     ]
    },
    {
     "data": {
      "text/plain": [
       "0.8739"
      ]
     },
     "execution_count": 37,
     "metadata": {},
     "output_type": "execute_result"
    }
   ],
   "source": [
    "NN_occ_hor1 = NN_MNIST_classifier(trainX_flat_occ_hor1, train_Y, testX_flat_occ_hor1, test_Y, layers = [image_size, 350, 350, 100, 10])\n",
    "NN_occ_hor1.train_network(epochs=15)\n",
    "NN_occ_hor1.test_network()"
   ]
  },
  {
   "cell_type": "code",
   "execution_count": 38,
   "metadata": {},
   "outputs": [
    {
     "name": "stdout",
     "output_type": "stream",
     "text": [
      "Epoch 1/15\n",
      "60000/60000 [==============================] - 10s 166us/step - loss: 0.7206 - categorical_accuracy: 0.7908\n",
      "Epoch 2/15\n",
      "60000/60000 [==============================] - 9s 150us/step - loss: 0.4159 - categorical_accuracy: 0.8696\n",
      "Epoch 3/15\n",
      "60000/60000 [==============================] - 10s 164us/step - loss: 0.3780 - categorical_accuracy: 0.8807\n",
      "Epoch 4/15\n",
      "60000/60000 [==============================] - 10s 160us/step - loss: 0.3554 - categorical_accuracy: 0.8845\n",
      "Epoch 5/15\n",
      "60000/60000 [==============================] - 10s 166us/step - loss: 0.3418 - categorical_accuracy: 0.8901\n",
      "Epoch 6/15\n",
      "60000/60000 [==============================] - 10s 170us/step - loss: 0.3290 - categorical_accuracy: 0.8937\n",
      "Epoch 7/15\n",
      "60000/60000 [==============================] - 9s 155us/step - loss: 0.3132 - categorical_accuracy: 0.8980\n",
      "Epoch 8/15\n",
      "60000/60000 [==============================] - 10s 165us/step - loss: 0.3087 - categorical_accuracy: 0.8996\n",
      "Epoch 9/15\n",
      "60000/60000 [==============================] - 9s 154us/step - loss: 0.2995 - categorical_accuracy: 0.9010\n",
      "Epoch 10/15\n",
      "60000/60000 [==============================] - 9s 158us/step - loss: 0.2887 - categorical_accuracy: 0.9059\n",
      "Epoch 11/15\n",
      "60000/60000 [==============================] - 11s 175us/step - loss: 0.2811 - categorical_accuracy: 0.9081\n",
      "Epoch 12/15\n",
      "60000/60000 [==============================] - 9s 156us/step - loss: 0.2716 - categorical_accuracy: 0.9104\n",
      "Epoch 13/15\n",
      "60000/60000 [==============================] - 10s 170us/step - loss: 0.2679 - categorical_accuracy: 0.9124\n",
      "Epoch 14/15\n",
      "60000/60000 [==============================] - 10s 174us/step - loss: 0.2605 - categorical_accuracy: 0.9136\n",
      "Epoch 15/15\n",
      "60000/60000 [==============================] - 10s 174us/step - loss: 0.2559 - categorical_accuracy: 0.9149\n"
     ]
    },
    {
     "data": {
      "text/plain": [
       "0.9106"
      ]
     },
     "execution_count": 38,
     "metadata": {},
     "output_type": "execute_result"
    }
   ],
   "source": [
    "NN_occ_hor2 = NN_MNIST_classifier(trainX_flat_occ_hor2, train_Y, testX_flat_occ_hor2, test_Y, layers = [image_size, 350, 350, 100, 10])\n",
    "NN_occ_hor2.train_network(epochs=15)\n",
    "NN_occ_hor2.test_network()"
   ]
  },
  {
   "cell_type": "code",
   "execution_count": 39,
   "metadata": {},
   "outputs": [
    {
     "name": "stdout",
     "output_type": "stream",
     "text": [
      "Epoch 1/15\n",
      "60000/60000 [==============================] - 10s 169us/step - loss: 0.7296 - categorical_accuracy: 0.7806\n",
      "Epoch 2/15\n",
      "60000/60000 [==============================] - 10s 160us/step - loss: 0.4498 - categorical_accuracy: 0.8543\n",
      "Epoch 3/15\n",
      "60000/60000 [==============================] - 10s 168us/step - loss: 0.4018 - categorical_accuracy: 0.8673\n",
      "Epoch 4/15\n",
      "60000/60000 [==============================] - 10s 160us/step - loss: 0.3819 - categorical_accuracy: 0.8742\n",
      "Epoch 5/15\n",
      "60000/60000 [==============================] - 9s 154us/step - loss: 0.3644 - categorical_accuracy: 0.8796\n",
      "Epoch 6/15\n",
      "60000/60000 [==============================] - 10s 171us/step - loss: 0.3547 - categorical_accuracy: 0.8831\n",
      "Epoch 7/15\n",
      "60000/60000 [==============================] - 11s 176us/step - loss: 0.3381 - categorical_accuracy: 0.8866\n",
      "Epoch 8/15\n",
      "60000/60000 [==============================] - 11s 183us/step - loss: 0.3274 - categorical_accuracy: 0.8905\n",
      "Epoch 9/15\n",
      "60000/60000 [==============================] - 10s 160us/step - loss: 0.3148 - categorical_accuracy: 0.8941\n",
      "Epoch 10/15\n",
      "60000/60000 [==============================] - 10s 162us/step - loss: 0.3150 - categorical_accuracy: 0.8932\n",
      "Epoch 11/15\n",
      "60000/60000 [==============================] - 9s 153us/step - loss: 0.2964 - categorical_accuracy: 0.9007\n",
      "Epoch 12/15\n",
      "60000/60000 [==============================] - 10s 161us/step - loss: 0.2937 - categorical_accuracy: 0.8997\n",
      "Epoch 13/15\n",
      "60000/60000 [==============================] - 10s 170us/step - loss: 0.2904 - categorical_accuracy: 0.9025\n",
      "Epoch 14/15\n",
      "60000/60000 [==============================] - 10s 170us/step - loss: 0.2786 - categorical_accuracy: 0.9065\n",
      "Epoch 15/15\n",
      "60000/60000 [==============================] - 11s 177us/step - loss: 0.2672 - categorical_accuracy: 0.9085\n"
     ]
    },
    {
     "data": {
      "text/plain": [
       "0.8982"
      ]
     },
     "execution_count": 39,
     "metadata": {},
     "output_type": "execute_result"
    }
   ],
   "source": [
    "NN_occ_ver1 = NN_MNIST_classifier(trainX_flat_occ_ver1, train_Y, testX_flat_occ_ver1, test_Y, layers = [image_size, 350, 350, 100, 10])\n",
    "NN_occ_ver1.train_network(epochs=15)\n",
    "NN_occ_ver1.test_network()"
   ]
  },
  {
   "cell_type": "code",
   "execution_count": 40,
   "metadata": {},
   "outputs": [
    {
     "name": "stdout",
     "output_type": "stream",
     "text": [
      "Epoch 1/15\n",
      "60000/60000 [==============================] - 11s 179us/step - loss: 0.6396 - categorical_accuracy: 0.8181\n",
      "Epoch 2/15\n",
      "60000/60000 [==============================] - 10s 163us/step - loss: 0.3676 - categorical_accuracy: 0.8883\n",
      "Epoch 3/15\n",
      "60000/60000 [==============================] - 10s 175us/step - loss: 0.3324 - categorical_accuracy: 0.8974\n",
      "Epoch 4/15\n",
      "60000/60000 [==============================] - 10s 174us/step - loss: 0.3120 - categorical_accuracy: 0.9035\n",
      "Epoch 5/15\n",
      "60000/60000 [==============================] - 9s 158us/step - loss: 0.2903 - categorical_accuracy: 0.9093\n",
      "Epoch 6/15\n",
      "60000/60000 [==============================] - 10s 174us/step - loss: 0.2812 - categorical_accuracy: 0.9116\n",
      "Epoch 7/15\n",
      "60000/60000 [==============================] - 10s 169us/step - loss: 0.2683 - categorical_accuracy: 0.9152\n",
      "Epoch 8/15\n",
      "60000/60000 [==============================] - 11s 179us/step - loss: 0.2665 - categorical_accuracy: 0.9157\n",
      "Epoch 9/15\n",
      "60000/60000 [==============================] - 10s 173us/step - loss: 0.2464 - categorical_accuracy: 0.9226\n",
      "Epoch 10/15\n",
      "60000/60000 [==============================] - 11s 178us/step - loss: 0.2421 - categorical_accuracy: 0.9230\n",
      "Epoch 11/15\n",
      "60000/60000 [==============================] - 9s 152us/step - loss: 0.2317 - categorical_accuracy: 0.9263\n",
      "Epoch 12/15\n",
      "60000/60000 [==============================] - 10s 167us/step - loss: 0.2283 - categorical_accuracy: 0.9271\n",
      "Epoch 13/15\n",
      "60000/60000 [==============================] - 11s 184us/step - loss: 0.2266 - categorical_accuracy: 0.9273\n",
      "Epoch 14/15\n",
      "60000/60000 [==============================] - 11s 181us/step - loss: 0.2237 - categorical_accuracy: 0.9279\n",
      "Epoch 15/15\n",
      "60000/60000 [==============================] - 11s 187us/step - loss: 0.2186 - categorical_accuracy: 0.9299\n"
     ]
    },
    {
     "data": {
      "text/plain": [
       "0.9289"
      ]
     },
     "execution_count": 40,
     "metadata": {},
     "output_type": "execute_result"
    }
   ],
   "source": [
    "NN_occ_ver2 = NN_MNIST_classifier(trainX_flat_occ_ver2, train_Y, testX_flat_occ_ver2, test_Y, layers = [image_size, 350, 350, 100, 10])\n",
    "NN_occ_ver2.train_network(epochs=15)\n",
    "NN_occ_ver2.test_network()"
   ]
  },
  {
   "cell_type": "code",
   "execution_count": null,
   "metadata": {},
   "outputs": [],
   "source": []
  }
 ],
 "metadata": {
  "kernelspec": {
   "display_name": "Python 3",
   "language": "python",
   "name": "python3"
  },
  "language_info": {
   "codemirror_mode": {
    "name": "ipython",
    "version": 3
   },
   "file_extension": ".py",
   "mimetype": "text/x-python",
   "name": "python",
   "nbconvert_exporter": "python",
   "pygments_lexer": "ipython3",
   "version": "3.7.5"
  }
 },
 "nbformat": 4,
 "nbformat_minor": 4
}
