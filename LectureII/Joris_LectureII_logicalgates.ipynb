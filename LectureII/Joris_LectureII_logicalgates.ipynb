{
 "cells": [
  {
   "cell_type": "markdown",
   "metadata": {},
   "source": [
    "# ML for Phys: Lecture 2 exercises"
   ]
  },
  {
   "cell_type": "code",
   "execution_count": 1,
   "metadata": {},
   "outputs": [],
   "source": [
    "import numpy as np\n",
    "import pandas as ps\n",
    "import matplotlib.pyplot as plt"
   ]
  },
  {
   "cell_type": "code",
   "execution_count": 45,
   "metadata": {},
   "outputs": [],
   "source": [
    "def eval_layer(y, w, b):\n",
    "    #wexp = np.array([w]*len(y))\n",
    "    z = np.dot(w, y.T).T + b\n",
    "    return 1.0/(1.0 + np.exp(-10*z))\n",
    "\n",
    "def contour_plot(x_list, y_list, ):\n",
    "\n",
    "    xlist = np.linspace(-3.0, 3.0, 100)\n",
    "    ylist = np.linspace(-3.0, 3.0, 100)\n",
    "    X, Y = np.meshgrid(xlist, ylist)\n",
    "    Z = np.sqrt(X**2 + Y**2)\n",
    "    fig,ax=plt.subplots(1,1)\n",
    "    cp = ax.contourf(X, Y, Z)\n",
    "    fig.colorbar(cp) # Add a colorbar to a plot\n",
    "    ax.set_title('Filled Contours Plot')\n",
    "    #ax.set_xlabel('x (cm)')\n",
    "    ax.set_ylabel('y (cm)')\n",
    "    plt.show()"
   ]
  },
  {
   "cell_type": "markdown",
   "metadata": {},
   "source": [
    "### Logic gates with neural nets"
   ]
  },
  {
   "cell_type": "markdown",
   "metadata": {},
   "source": [
    "#### AND gate\n",
    "\n",
    "Inputs $y1$, $y2$ are combined to find $z$\n",
    "\n",
    "$$z = y1 + y2 - 1.5$$"
   ]
  },
  {
   "cell_type": "code",
   "execution_count": 50,
   "metadata": {},
   "outputs": [
    {
     "data": {
      "text/plain": [
       "array([3.05902227e-07, 6.69285092e-03, 6.69285092e-03, 9.93307149e-01])"
      ]
     },
     "execution_count": 50,
     "metadata": {},
     "output_type": "execute_result"
    }
   ],
   "source": [
    "w = np.array([1,1])\n",
    "b = np.array([-1.5])\n",
    "\n",
    "y = np.array([[0,0],[0,1], [1,0], [1,1]])\n",
    "\n",
    "eval_layer(y, w, b)"
   ]
  },
  {
   "cell_type": "markdown",
   "metadata": {},
   "source": [
    "#### OR gate\n",
    "\n",
    "Inputs $y1$, $y2$ are combined to find $z$\n",
    "\n",
    "$$ z = y1 + y2 - 0.5 $$"
   ]
  },
  {
   "cell_type": "code",
   "execution_count": 49,
   "metadata": {},
   "outputs": [
    {
     "data": {
      "text/plain": [
       "array([0.00669285, 0.99330715, 0.99330715, 0.99999969])"
      ]
     },
     "execution_count": 49,
     "metadata": {},
     "output_type": "execute_result"
    }
   ],
   "source": [
    "w = np.array([1,1])\n",
    "b = np.array([-0.5])\n",
    "\n",
    "y = np.array([[0,0],[0,1], [1,0], [1,1]])\n",
    "\n",
    "eval_layer(y, w, b)"
   ]
  },
  {
   "cell_type": "markdown",
   "metadata": {},
   "source": [
    "#### XOR gate\n",
    "\n",
    "Inputs $y^0_1$, $y^0_1$ are combined to find $z^1_1$ as AND gate and $z^1_2$ as OR gate. These in turn are combined to find $z^2_1$ as AND gate.\n",
    "\n",
    "$$z^1_1 = y^0_1 + y^0_2 - 1.5, z^1_2 = y^0_1 + y^0_2 - 0.5, z3 = y^1_1 + y^1_2 - 1.5$$\n"
   ]
  },
  {
   "cell_type": "code",
   "execution_count": 48,
   "metadata": {},
   "outputs": [
    {
     "name": "stdout",
     "output_type": "stream",
     "text": [
      "[[0 0]\n",
      " [0 1]\n",
      " [1 0]\n",
      " [1 1]]\n",
      "[[3.05902227e-07 6.69285092e-03]\n",
      " [6.69285092e-03 9.93307149e-01]\n",
      " [6.69285092e-03 9.93307149e-01]\n",
      " [9.93307149e-01 9.99999694e-01]]\n",
      "[0.00715279 0.99235586 0.99235586 0.00715279]\n"
     ]
    }
   ],
   "source": [
    "w1 = np.array([[1,1], [1,1]])\n",
    "b1 = np.array([-1.5, -0.5])\n",
    "\n",
    "w2 = np.array([-1,1])\n",
    "b2 = np.array([-0.5])\n",
    "\n",
    "\n",
    "y0 = np.array([[0,0],[0,1], [1,0], [1,1]])\n",
    "print(y0)\n",
    "y1 = eval_layer(y0, w1, b1)\n",
    "print(y1)\n",
    "y2 = eval_layer(y1, w2, b2)\n",
    "print(y2)"
   ]
  },
  {
   "cell_type": "markdown",
   "metadata": {},
   "source": [
    "### Draw figures in the plane $(y^0_1, y^0_2)$"
   ]
  },
  {
   "cell_type": "code",
   "execution_count": 51,
   "metadata": {},
   "outputs": [
    {
     "name": "stdout",
     "output_type": "stream",
     "text": [
      "[[0.  0. ]\n",
      " [2.5 5. ]\n",
      " [4.  3. ]\n",
      " [2.5 3. ]]\n",
      "[[3.05902227e-07 6.69285092e-03]\n",
      " [9.99954602e-01 1.00000000e+00]\n",
      " [1.00000000e+00 1.00000000e+00]\n",
      " [9.99954602e-01 1.00000000e+00]]\n",
      "[[1. 1.]\n",
      " [1. 1.]\n",
      " [1. 1.]\n",
      " [1. 1.]]\n",
      "[0.99330715 0.99330715 0.99330715 0.99330715]\n"
     ]
    }
   ],
   "source": [
    "w1 = np.array([[1,0], [0,1]])\n",
    "b1 = np.array([-1.5, -0.5])\n",
    "\n",
    "w2 = np.array([[-1,0], [0,-1]])\n",
    "b2 = np.array([3.5, 4.5])\n",
    "\n",
    "w3 = np.array([1,1])\n",
    "b3 = np.array([-1.5])\n",
    "\n",
    "y0 = np.array([[0,0],[2.5, 5.0], [4.0, 3.0], [2.5,3.0]])\n",
    "print(y0)\n",
    "y1 = eval_layer(y0, w1, b1)\n",
    "print(y1)\n",
    "y2 = eval_layer(y1, w2, b2)\n",
    "print(y2)\n",
    "y3 = eval_layer(y2, w3, b3)\n",
    "print(y3)"
   ]
  },
  {
   "cell_type": "code",
   "execution_count": null,
   "metadata": {},
   "outputs": [],
   "source": []
  }
 ],
 "metadata": {
  "kernelspec": {
   "display_name": "Python 3",
   "language": "python",
   "name": "python3"
  },
  "language_info": {
   "codemirror_mode": {
    "name": "ipython",
    "version": 3
   },
   "file_extension": ".py",
   "mimetype": "text/x-python",
   "name": "python",
   "nbconvert_exporter": "python",
   "pygments_lexer": "ipython3",
   "version": "3.7.3"
  }
 },
 "nbformat": 4,
 "nbformat_minor": 4
}
