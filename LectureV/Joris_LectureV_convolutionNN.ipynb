{
 "cells": [
  {
   "cell_type": "code",
   "execution_count": 1,
   "metadata": {},
   "outputs": [
    {
     "name": "stderr",
     "output_type": "stream",
     "text": [
      "Using TensorFlow backend.\n"
     ]
    }
   ],
   "source": [
    "# Import the numpy library for matrix manipulations etc.\n",
    "import numpy as np\n",
    "import pandas as pd\n",
    "import os\n",
    "import sys\n",
    "import cv2 as cv2\n",
    "\n",
    "# Set up the graphics by importing the matplotlib plotting library\n",
    "import matplotlib.pyplot as plt\n",
    "\n",
    "import keras as kr\n",
    "from keras.models import Sequential\n",
    "from keras.layers import Dense\n",
    "\n",
    "# Load data\n",
    "from keras.datasets import fashion_mnist \n",
    "from keras.datasets import mnist \n",
    "\n",
    "(train_X,train_Y), (test_X,test_Y) = mnist.load_data()\n",
    "#(train_X,train_Y), (test_X,test_Y) = fashion_mnist.load_data()\n",
    "\n",
    "fashion_mnist_class_names = ['T-shirt/top', 'Trouser', 'Pullover', 'Dress', 'Coat', 'Sandal', 'Shirt', 'Sneaker', 'Bag', 'Ankle boot']\n",
    "\n",
    "image_dim = 28"
   ]
  },
  {
   "cell_type": "code",
   "execution_count": 9,
   "metadata": {},
   "outputs": [],
   "source": [
    "def display_image(image_array, clim=None):\n",
    "    \"\"\" Show a single image with colorbar. Image given in 1D or 2D representation. \"\"\"\n",
    "    \n",
    "    if len(image_array.shape) == 1:\n",
    "        image_dim = int(np.sqrt(len(image_array)))\n",
    "        img = np.reshape(image_array, [image_dim, image_dim])\n",
    "    else:\n",
    "        img = image_array\n",
    "        \n",
    "    plt.imshow(img, interpolation='nearest', cmap='binary')\n",
    "    if clim is None:\n",
    "        plt.clim([img.min(),img.max()])\n",
    "    else:\n",
    "        plt.clim(clim)\n",
    "        \n",
    "    plt.colorbar()\n",
    "    plt.show()\n",
    "\n",
    "    \n",
    "def create_training_data(data_sets, labels = [], p_train = 0.8):\n",
    "    \"\"\" Create training and testing datasets from a collection of data sets.\n",
    "    \n",
    "        Function shuffles the given data_sets.\n",
    "    \n",
    "        Parameters:\n",
    "        -----------\n",
    "        data_sets : list of numpy.ndarray\n",
    "            List of data sets, where every set is assumed to have the same label.\n",
    "        labels : numpy.array\n",
    "            Labels for each data set. If not given, assume labels = range(len(data_sets))\n",
    "        p_train : 0.8, float\n",
    "            Fraction of data used for training. Rest is used for testing.\n",
    "        \n",
    "        \n",
    "        Returns:\n",
    "        --------\n",
    "        (trainX, trainY), (testX, testY)\n",
    "    \"\"\"\n",
    "\n",
    "    data_sets_len = []\n",
    "    for data in data_sets:\n",
    "        data_sets_len.append(len(data))\n",
    "\n",
    "    if len(labels) != len(data_sets):\n",
    "        labels = np.array(list(range(len(data_sets))))\n",
    "        \n",
    "    N_data_total  = sum(data_sets_len)\n",
    "    N_data_train = int(p_train * N_data_total)\n",
    "    N_data_test  = int((1 - p_train) * N_data_total)\n",
    "               \n",
    "    totalX = np.concatenate(data_sets, axis=0)\n",
    "    totalY = [np.array([label]*size) for label, size in zip(labels, data_sets_len)]\n",
    "    \n",
    "    totalY = np.concatenate(totalY, axis=0)\n",
    "\n",
    "    # Shuffle data.\n",
    "    totalX_randidx = np.array(range(N_data_total))\n",
    "    np.random.shuffle(totalX_randidx)\n",
    "\n",
    "    totalX = totalX[totalX_randidx]\n",
    "    totalY = totalY[totalX_randidx]\n",
    "\n",
    "    # Split into trian and test sets.\n",
    "    trainX = totalX[:N_data_train]\n",
    "    testX  = totalX[N_data_train:]\n",
    "\n",
    "    trainY = totalY[:N_data_train]\n",
    "    testY  = totalY[N_data_train:]\n",
    "    \n",
    "    return (trainX, trainY), (testX, testY)\n",
    "\n",
    "\n",
    "class NN_conv_classifier:\n",
    "    \"Aboutaleb class for loading and training a neural net with synthetic generated data sets.\"\n",
    "\n",
    "    def __init__(self, trainX, trainY, testX, testY, layers=[], activationFunc='sigmoid', lossFunc = 'categorical_crossentropy', optimizer = 'adam'):\n",
    "\n",
    "        self.trainX_size, self.image_dim_x, self.image_dim_y  = trainX.shape\n",
    "        \n",
    "        # Set images properties.\n",
    "        self.trainX = np.expand_dims(train_X, 3)\n",
    "        self.testX  = np.expand_dims(testX, 3)\n",
    "        self.trainY = self.to_one_hot_encoding(trainY)\n",
    "        self.testY  = self.to_one_hot_encoding(testY)\n",
    "                \n",
    "        # Set network properties.\n",
    "        self.filter_size    = 5\n",
    "        self.layers         = layers\n",
    "        self.activationFunc = activationFunc\n",
    "        self.lossFunc       = lossFunc\n",
    "        self.optimizer      = optimizer\n",
    "        \n",
    "        # Build and train network.\n",
    "        self.__build_network()\n",
    "        self.__compile_network()\n",
    "        \n",
    "        # Nice names for numeric labels. (Set manually)\n",
    "        self.shape_idx_to_name = dict(zip(np.unique(trainY), np.unique(trainY)))\n",
    "        \n",
    "    # Convert lablels to one-hot encoding.\n",
    "    def to_one_hot_encoding(self, labels):   \n",
    "        \n",
    "        if len(labels.shape) == 2:\n",
    "            return labels\n",
    "        \n",
    "        N_labels = len(np.unique(labels))\n",
    "\n",
    "        train_Y_onehot = np.array([[0]*N_labels]*len(labels))\n",
    "        for idx in range(len(train_Y_onehot)):\n",
    "            train_Y_onehot[idx][labels[idx]] = 1\n",
    "            \n",
    "        return train_Y_onehot\n",
    "        \n",
    "    def __build_network(self):\n",
    "        net=kr.models.Sequential()\n",
    "        #net.add(kr.layers.Dense(self.layers[1], input_shape=(self.image_size,), activation=self.activationFunc))\n",
    "        net.add(kr.layers.Conv2D(input_shape=(self.image_dim_x, self.image_dim_y, 1), filters=7, \n",
    "                                 kernel_size=[self.filter_size, self.filter_size], \n",
    "                                 activation=self.activationFunc, padding='same'))\n",
    "        net.add(kr.layers.AveragePooling2D(pool_size=4))\n",
    "        net.add(kr.layers.Flatten())\n",
    "        net.add(kr.layers.Dense(10, activation='softmax'))\n",
    "#         if(len(self.layers)>3):\n",
    "#             for li in self.layers[2:-1]:\n",
    "#                 net.add(kr.layers.Dense(li, activation=self.activationFunc))  \n",
    "        self.net = net\n",
    "            \n",
    "    def __compile_network(self):\n",
    "        self.net.compile(loss=self.lossFunc,\n",
    "                         optimizer=self.optimizer,\n",
    "                         metrics=['categorical_accuracy'])\n",
    "            \n",
    "    def train_network(self, batch_size=100, epochs=30):\n",
    "        self.history = self.net.fit(self.trainX, self.trainY, batch_size=batch_size, epochs=epochs)\n",
    "        \n",
    "    def test_network(self):\n",
    "        testX_probs    = self.net.predict_on_batch(self.testX)\n",
    "        testX_max_prob = np.argmax(testX_probs, axis=1)\n",
    "        accuracy       = sum((np.argmax(self.testY, axis=1) - testX_max_prob) == 0)/len(self.testY) \n",
    "        \n",
    "        return accuracy\n",
    "    \n",
    "    def test_example(self):\n",
    "        \n",
    "        rand_idx     = np.random.randint(len(self.testX))\n",
    "        image_sample = self.testX[rand_idx]\n",
    "        shape_idx_to_name = self.testX[rand_idx]\n",
    "        predict_prop = self.net.predict_on_batch(np.array([image_sample]))[0]\n",
    "        predict_label = np.argmax(predict_prop)\n",
    "        \n",
    "        print('Label:', self.shape_idx_to_name[np.argmax(self.testY[rand_idx])], ', Prediction:', self.shape_idx_to_name[predict_label],\\\n",
    "              ', (prob=', predict_prop[predict_label] , ')')\n",
    "\n",
    "        display_image(image_sample.squeeze())"
   ]
  },
  {
   "cell_type": "code",
   "execution_count": 3,
   "metadata": {},
   "outputs": [],
   "source": [
    "NNtest = NN_conv_classifier(train_X, train_Y, test_X, test_Y, activationFunc='sigmoid')\n",
    "NNtest.shape_idx_to_name = dict(zip(range(10), fashion_mnist_class_names))"
   ]
  },
  {
   "cell_type": "code",
   "execution_count": 4,
   "metadata": {},
   "outputs": [
    {
     "name": "stdout",
     "output_type": "stream",
     "text": [
      "Epoch 1/6\n",
      "60000/60000 [==============================] - 83s 1ms/step - loss: 0.8604 - categorical_accuracy: 0.7249\n",
      "Epoch 2/6\n",
      "60000/60000 [==============================] - 69s 1ms/step - loss: 0.5231 - categorical_accuracy: 0.8173\n",
      "Epoch 3/6\n",
      "60000/60000 [==============================] - 68s 1ms/step - loss: 0.4558 - categorical_accuracy: 0.8395\n",
      "Epoch 4/6\n",
      "60000/60000 [==============================] - 79s 1ms/step - loss: 0.4200 - categorical_accuracy: 0.8520\n",
      "Epoch 5/6\n",
      "60000/60000 [==============================] - 77s 1ms/step - loss: 0.3958 - categorical_accuracy: 0.8612\n",
      "Epoch 6/6\n",
      "60000/60000 [==============================] - 71s 1ms/step - loss: 0.3805 - categorical_accuracy: 0.8657\n"
     ]
    },
    {
     "data": {
      "text/plain": [
       "0.8612"
      ]
     },
     "execution_count": 4,
     "metadata": {},
     "output_type": "execute_result"
    }
   ],
   "source": [
    "NNtest.train_network(epochs=6)\n",
    "NNtest.test_network()"
   ]
  },
  {
   "cell_type": "code",
   "execution_count": 12,
   "metadata": {},
   "outputs": [
    {
     "name": "stdout",
     "output_type": "stream",
     "text": [
      "Label: T-shirt/top , Prediction: T-shirt/top , (prob= 0.709822 )\n"
     ]
    },
    {
     "data": {
      "image/png": "[encoded data removed]",
      "text/plain": [
       "<Figure size 432x288 with 2 Axes>"
      ]
     },
     "metadata": {
      "needs_background": "light"
     },
     "output_type": "display_data"
    }
   ],
   "source": [
    "NNtest.test_example()"
   ]
  },
  {
   "cell_type": "code",
   "execution_count": 6,
   "metadata": {},
   "outputs": [
    {
     "name": "stdout",
     "output_type": "stream",
     "text": [
      "Model: \"sequential_1\"\n",
      "_________________________________________________________________\n",
      "Layer (type)                 Output Shape              Param #   \n",
      "=================================================================\n",
      "conv2d_1 (Conv2D)            (None, 28, 28, 7)         182       \n",
      "_________________________________________________________________\n",
      "average_pooling2d_1 (Average (None, 7, 7, 7)           0         \n",
      "_________________________________________________________________\n",
      "flatten_1 (Flatten)          (None, 343)               0         \n",
      "_________________________________________________________________\n",
      "dense_1 (Dense)              (None, 10)                3440      \n",
      "=================================================================\n",
      "Total params: 3,622\n",
      "Trainable params: 3,622\n",
      "Non-trainable params: 0\n",
      "_________________________________________________________________\n"
     ]
    }
   ],
   "source": [
    "NNtest.net.summary()"
   ]
  },
  {
   "cell_type": "code",
   "execution_count": 135,
   "metadata": {},
   "outputs": [
    {
     "name": "stdout",
     "output_type": "stream",
     "text": [
      "(5, 5, 1, 7)\n",
      "(7,)\n",
      "(343, 10)\n",
      "(10,)\n"
     ]
    }
   ],
   "source": [
    "for weights in net_weights:\n",
    "    print(weights.shape)"
   ]
  },
  {
   "cell_type": "markdown",
   "metadata": {},
   "source": [
    "#### Visualize convolution kernels"
   ]
  },
  {
   "cell_type": "code",
   "execution_count": 9,
   "metadata": {},
   "outputs": [
    {
     "data": {
      "image/png": "[encoded data removed]",
      "text/plain": [
       "<Figure size 1296x216 with 7 Axes>"
      ]
     },
     "metadata": {
      "needs_background": "light"
     },
     "output_type": "display_data"
    }
   ],
   "source": [
    "net_weights  = NNtest.net.get_weights()\n",
    "conv_filters = net_weights[0].T.squeeze()\n",
    "\n",
    "N_filter = len(conv_filters)\n",
    "\n",
    "fig, axs = plt.subplots(1, N_filter, figsize = (18,3))\n",
    "fig.suptitle('CNN kernels')\n",
    "\n",
    "for idx, ax in enumerate(axs.flatten()):\n",
    "    ax.imshow(conv_filters[idx], interpolation='nearest', cmap='binary')\n",
    "    ax.axis('off')"
   ]
  },
  {
   "cell_type": "markdown",
   "metadata": {},
   "source": [
    "## Encoding MNIST through the magnificent bottleneck"
   ]
  },
  {
   "cell_type": "code",
   "execution_count": 155,
   "metadata": {},
   "outputs": [],
   "source": [
    "def create_mnist_squares(train_X, Nsamples = 100000, upsample=2):\n",
    "    \"\"\" Merge MNSIT images to square of NxN images.    \n",
    "    \"\"\"\n",
    " \n",
    "    Nimage, dim_x, dim_y = train_X.shape\n",
    "    \n",
    "    randint4 = np.random.randint(0, Nimage, upsample*upsample*Nsamples).reshape(-1, upsample*upsample)\n",
    "    \n",
    "    a      = train_X[randint4]\n",
    "    aa     = a.reshape(-1, upsample, upsample*dim_x, dim_x)\n",
    "    aamove = np.moveaxis(aa,1,2)\n",
    "    aaa    = np.squeeze(aamove.reshape(-1,upsample*dim_x,1,upsample*dim_x))\n",
    "    \n",
    "    return aaa\n",
    "\n",
    "\n",
    "class NN_MNIST_encoder:\n",
    "    \"Aboutaleb class for loading and training a neural net with synthetic generated data sets.\"\n",
    "\n",
    "    def __init__(self, trainX, testX, layers=[], activationFunc='relu', lossFunc = 'mean_squared_error', optimizer = 'Adam'):\n",
    "\n",
    "        self.trainX_size, self.image_dim_x, self.image_dim_y  = trainX.shape\n",
    "        \n",
    "        # Set images properties.\n",
    "        self.trainX = np.expand_dims(trainX, 3)\n",
    "        self.testX  = np.expand_dims(testX, 3)\n",
    "                \n",
    "        # Set network properties.\n",
    "        self.filter_size    = 5\n",
    "        self.Nconv_filer    = 20\n",
    "        self.layers         = layers\n",
    "        self.activationFunc = activationFunc\n",
    "        self.lossFunc       = lossFunc\n",
    "        self.optimizer      = optimizer\n",
    "        \n",
    "        # Build and train network.\n",
    "        self.__build_network()\n",
    "        self.__compile_network()\n",
    "                        \n",
    "    def __build_network(self):\n",
    "\n",
    "        image_shape = (self.image_dim_x, self.image_dim_y, 1)\n",
    "        kernel_size = (self.filter_size, self.filter_size)\n",
    "        \n",
    "        AveragePooling2D = kr.layers.AveragePooling2D\n",
    "        UpSampling2D = kr.layers.UpSampling2D\n",
    "        Conv2D = kr.layers.Conv2D\n",
    "                \n",
    "        autoenc = kr.models.Sequential()        \n",
    "        \n",
    "        autoenc.add(Conv2D(input_shape=image_shape, filters=self.Nconv_filer, kernel_size=self.filter_size,\\\n",
    "                           activation=self.activationFunc, padding='same'))\n",
    "        autoenc.add(AveragePooling2D(pool_size=4))\n",
    "        \n",
    "        autoenc.add(Conv2D(filters=self.Nconv_filer, kernel_size=kernel_size, activation='relu', padding='same'))\n",
    "        autoenc.add(AveragePooling2D(pool_size=4))\n",
    "        \n",
    "        autoenc.add(Conv2D(filters=self.Nconv_filer, kernel_size=[1,1], activation='relu', padding='same'))\n",
    "        autoenc.add(UpSampling2D(size=4))\n",
    "        \n",
    "        autoenc.add(Conv2D(filters=self.Nconv_filer, kernel_size=kernel_size, activation='relu', padding='same'))\n",
    "        autoenc.add(UpSampling2D(size=4))\n",
    "        \n",
    "        autoenc.add(Conv2D(filters=1, kernel_size=self.filter_size, activation='linear', padding='same'))\n",
    "\n",
    "        self.net = autoenc\n",
    "            \n",
    "    def __compile_network(self):\n",
    "        self.net.compile(loss      = self.lossFunc,\n",
    "                         optimizer = self.optimizer,\n",
    "                         metrics   = ['accuracy'])\n",
    "            \n",
    "    def train_network(self, batch_size=100, epochs=30):\n",
    "        self.history = self.net.fit(self.trainX, self.trainX, batch_size=batch_size, epochs=epochs)\n",
    "        \n",
    "    def test_network(self):\n",
    "        testX_probs    = self.net.predict_on_batch(self.testX)\n",
    "        testX_max_prob = np.argmax(testX_probs, axis=1)\n",
    "        accuracy       = sum((np.argmax(self.testY, axis=1) - testX_max_prob) == 0)/len(self.testY) \n",
    "        \n",
    "        return accuracy\n",
    "    \n",
    "    def test_example(self):\n",
    "        \n",
    "        rand_idx     = np.random.randint(len(self.testX))\n",
    "        image_sample = self.testX[rand_idx]\n",
    "        shape_idx_to_name = self.testX[rand_idx]\n",
    "        predict_prop = self.net.predict_on_batch(np.array([image_sample]))[0]\n",
    "        predict_label = np.argmax(predict_prop)\n",
    "        \n",
    "        print('Label:', self.shape_idx_to_name[np.argmax(self.testY[rand_idx])], ', Prediction:', self.shape_idx_to_name[predict_label],\\\n",
    "              ', (prob=', predict_prop[predict_label] , ')')\n",
    "\n",
    "        display_image(image_sample.squeeze())"
   ]
  },
  {
   "cell_type": "code",
   "execution_count": 182,
   "metadata": {},
   "outputs": [],
   "source": [
    "train_X_sq = np.pad(train_X, [(0,0), (2,2),(2,2)])\n",
    "test_X_sq = np.pad(test_X, [(0,0), (2,2),(2,2)])\n",
    "\n",
    "#train_X_sq = create_mnist_squares(train_X, 100000, 2)\n",
    "#test_X_sq  = create_mnist_squares(test_X,   20000, 2)"
   ]
  },
  {
   "cell_type": "code",
   "execution_count": 183,
   "metadata": {},
   "outputs": [],
   "source": [
    "encode = NN_MNIST_encoder(train_X_sq, test_X_sq)"
   ]
  },
  {
   "cell_type": "code",
   "execution_count": 184,
   "metadata": {},
   "outputs": [
    {
     "name": "stdout",
     "output_type": "stream",
     "text": [
      "Model: \"sequential_13\"\n",
      "_________________________________________________________________\n",
      "Layer (type)                 Output Shape              Param #   \n",
      "=================================================================\n",
      "conv2d_42 (Conv2D)           (None, 32, 32, 20)        520       \n",
      "_________________________________________________________________\n",
      "average_pooling2d_19 (Averag (None, 8, 8, 20)          0         \n",
      "_________________________________________________________________\n",
      "conv2d_43 (Conv2D)           (None, 8, 8, 20)          10020     \n",
      "_________________________________________________________________\n",
      "average_pooling2d_20 (Averag (None, 2, 2, 20)          0         \n",
      "_________________________________________________________________\n",
      "conv2d_44 (Conv2D)           (None, 2, 2, 20)          420       \n",
      "_________________________________________________________________\n",
      "up_sampling2d_15 (UpSampling (None, 8, 8, 20)          0         \n",
      "_________________________________________________________________\n",
      "conv2d_45 (Conv2D)           (None, 8, 8, 20)          10020     \n",
      "_________________________________________________________________\n",
      "up_sampling2d_16 (UpSampling (None, 32, 32, 20)        0         \n",
      "_________________________________________________________________\n",
      "conv2d_46 (Conv2D)           (None, 32, 32, 1)         501       \n",
      "=================================================================\n",
      "Total params: 21,481\n",
      "Trainable params: 21,481\n",
      "Non-trainable params: 0\n",
      "_________________________________________________________________\n",
      "(5, 5, 1, 20)\n",
      "(20,)\n",
      "(5, 5, 20, 20)\n",
      "(20,)\n",
      "(1, 1, 20, 20)\n",
      "(20,)\n",
      "(5, 5, 20, 20)\n",
      "(20,)\n",
      "(5, 5, 20, 1)\n",
      "(1,)\n"
     ]
    }
   ],
   "source": [
    "encode.net.summary()\n",
    "\n",
    "for weights in encode.net.weights:\n",
    "    print(weights.shape)"
   ]
  },
  {
   "cell_type": "code",
   "execution_count": 185,
   "metadata": {},
   "outputs": [
    {
     "name": "stdout",
     "output_type": "stream",
     "text": [
      "(60000, 32, 32, 1)\n",
      "Epoch 1/30\n",
      "60000/60000 [==============================] - 141s 2ms/step - loss: 2240.4233 - accuracy: 0.0853\n",
      "Epoch 2/30\n",
      "60000/60000 [==============================] - 152s 3ms/step - loss: 1572.9193 - accuracy: 0.2058\n",
      "Epoch 3/30\n",
      "60000/60000 [==============================] - 147s 2ms/step - loss: 1401.7963 - accuracy: 0.2282\n",
      "Epoch 4/30\n",
      "60000/60000 [==============================] - 153s 3ms/step - loss: 1305.2939 - accuracy: 0.2373\n",
      "Epoch 5/30\n",
      "60000/60000 [==============================] - 120s 2ms/step - loss: 1244.0632 - accuracy: 0.2435\n",
      "Epoch 6/30\n",
      "60000/60000 [==============================] - 122s 2ms/step - loss: 1199.1654 - accuracy: 0.2494\n",
      "Epoch 7/30\n",
      "60000/60000 [==============================] - 123s 2ms/step - loss: 1162.7269 - accuracy: 0.2558\n",
      "Epoch 8/30\n",
      "60000/60000 [==============================] - 135s 2ms/step - loss: 1136.9157 - accuracy: 0.2602\n",
      "Epoch 9/30\n",
      "60000/60000 [==============================] - 137s 2ms/step - loss: 1115.2910 - accuracy: 0.2645\n",
      "Epoch 10/30\n",
      "60000/60000 [==============================] - 130s 2ms/step - loss: 1096.9525 - accuracy: 0.2686\n",
      "Epoch 11/30\n",
      "60000/60000 [==============================] - 129s 2ms/step - loss: 1081.0434 - accuracy: 0.2714\n",
      "Epoch 12/30\n",
      "60000/60000 [==============================] - 128s 2ms/step - loss: 1066.2474 - accuracy: 0.2724\n",
      "Epoch 13/30\n",
      "60000/60000 [==============================] - 136s 2ms/step - loss: 1053.2121 - accuracy: 0.2732\n",
      "Epoch 14/30\n",
      "60000/60000 [==============================] - 132s 2ms/step - loss: 1042.3363 - accuracy: 0.2741\n",
      "Epoch 15/30\n",
      "60000/60000 [==============================] - 132s 2ms/step - loss: 1030.6148 - accuracy: 0.2754\n",
      "Epoch 16/30\n",
      "60000/60000 [==============================] - 123s 2ms/step - loss: 1021.9601 - accuracy: 0.2765\n",
      "Epoch 17/30\n",
      "60000/60000 [==============================] - 138s 2ms/step - loss: 1012.3249 - accuracy: 0.2777\n",
      "Epoch 18/30\n",
      "60000/60000 [==============================] - 140s 2ms/step - loss: 1003.5224 - accuracy: 0.2789\n",
      "Epoch 19/30\n",
      "60000/60000 [==============================] - 123s 2ms/step - loss: 996.7027 - accuracy: 0.2795\n",
      "Epoch 20/30\n",
      "60000/60000 [==============================] - 135s 2ms/step - loss: 990.2228 - accuracy: 0.2803\n",
      "Epoch 21/30\n",
      "60000/60000 [==============================] - 128s 2ms/step - loss: 982.0911 - accuracy: 0.2810\n",
      "Epoch 22/30\n",
      "60000/60000 [==============================] - 136s 2ms/step - loss: 976.5152 - accuracy: 0.2814\n",
      "Epoch 23/30\n",
      "60000/60000 [==============================] - 137s 2ms/step - loss: 970.0448 - accuracy: 0.2820\n",
      "Epoch 24/30\n",
      "60000/60000 [==============================] - 124s 2ms/step - loss: 964.5720 - accuracy: 0.2825\n",
      "Epoch 25/30\n",
      "60000/60000 [==============================] - 132s 2ms/step - loss: 959.2125 - accuracy: 0.2828\n",
      "Epoch 26/30\n",
      "60000/60000 [==============================] - 136s 2ms/step - loss: 954.9945 - accuracy: 0.2831\n",
      "Epoch 27/30\n",
      "60000/60000 [==============================] - 133s 2ms/step - loss: 949.6247 - accuracy: 0.2838\n",
      "Epoch 28/30\n",
      "60000/60000 [==============================] - 135s 2ms/step - loss: 945.7361 - accuracy: 0.2845\n",
      "Epoch 29/30\n",
      "60000/60000 [==============================] - 127s 2ms/step - loss: 940.9451 - accuracy: 0.2851\n",
      "Epoch 30/30\n",
      "60000/60000 [==============================] - 129s 2ms/step - loss: 937.3893 - accuracy: 0.2857\n"
     ]
    }
   ],
   "source": [
    "encode.train_network()"
   ]
  },
  {
   "cell_type": "code",
   "execution_count": 189,
   "metadata": {},
   "outputs": [
    {
     "data": {
      "image/png": "[encoded data removed]",
      "text/plain": [
       "<Figure size 432x288 with 2 Axes>"
      ]
     },
     "metadata": {
      "needs_background": "light"
     },
     "output_type": "display_data"
    },
    {
     "data": {
      "image/png": "[encoded data removed]",
      "text/plain": [
       "<Figure size 432x288 with 2 Axes>"
      ]
     },
     "metadata": {
      "needs_background": "light"
     },
     "output_type": "display_data"
    }
   ],
   "source": [
    "rnd_idx = np.random.randint(len(test_X_sq))\n",
    "\n",
    "test_img = test_X_sq[rnd_idx]\n",
    "test_img_ext = np.expand_dims([test_img], 3)\n",
    "display_image(test_img)\n",
    "a = encode.net.predict_on_batch(test_img_ext)\n",
    "display_image(a.squeeze())"
   ]
  },
  {
   "cell_type": "code",
   "execution_count": null,
   "metadata": {},
   "outputs": [],
   "source": [
    "extractor = kr.Model(inputs=encode.net.inputs,\n",
    "                     outputs=[layer.output for layer in encode.net.layers])\n",
    "features  = extractor(test_X_sq)"
   ]
  },
  {
   "cell_type": "code",
   "execution_count": 176,
   "metadata": {},
   "outputs": [
    {
     "data": {
      "text/plain": [
       "[<tf.Tensor 'conv2d_37_input:0' shape=(None, 32, 32, 1) dtype=float32>]"
      ]
     },
     "execution_count": 176,
     "metadata": {},
     "output_type": "execute_result"
    }
   ],
   "source": [
    "encode.net.inputs"
   ]
  },
  {
   "cell_type": "code",
   "execution_count": 190,
   "metadata": {},
   "outputs": [],
   "source": [
    "def display_filters(which_layer):\n",
    "    global BigImage\n",
    "    \n",
    "    the_layers=net.layers\n",
    "    filters=the_layers[which_layer].get_weights()[0]\n",
    "    s=shape(filters)\n",
    "    MX=s[0]\n",
    "    MY=s[1]\n",
    "    num_in=s[2] # number of input channels\n",
    "    num_out=s[3] # number of output channels\n",
    "    BigImage=zeros([num_in*(MX+1),num_out*(MY+1)])\n",
    "    BigImage[:,:]=1.0\n",
    "    for j_in in range(num_in):\n",
    "        for j_out in range(num_out):\n",
    "            BigImage[j_in*(MX+1):(j_in+1)*(MX+1)-1,j_out*(MY+1):(j_out+1)*(MY+1)-1]=rescale_image(filters[:,:,j_in,j_out])\n",
    "    plt.imshow(BigImage,origin='lower',interpolation='nearest',cmap='binary')\n",
    "    plt.axis('off')\n",
    "    plt.show()"
   ]
  },
  {
   "cell_type": "code",
   "execution_count": null,
   "metadata": {},
   "outputs": [],
   "source": []
  }
 ],
 "metadata": {
  "kernelspec": {
   "display_name": "Python 3",
   "language": "python",
   "name": "python3"
  },
  "language_info": {
   "codemirror_mode": {
    "name": "ipython",
    "version": 3
   },
   "file_extension": ".py",
   "mimetype": "text/x-python",
   "name": "python",
   "nbconvert_exporter": "python",
   "pygments_lexer": "ipython3",
   "version": "3.6.10"
  }
 },
 "nbformat": 4,
 "nbformat_minor": 4
}
